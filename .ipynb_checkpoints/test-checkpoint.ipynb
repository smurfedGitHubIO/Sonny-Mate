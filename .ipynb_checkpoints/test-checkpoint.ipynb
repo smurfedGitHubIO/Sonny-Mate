{
 "cells": [
  {
   "cell_type": "code",
   "execution_count": 2,
   "id": "0515eff1-aa04-451f-9e16-aa8c5cfe4894",
   "metadata": {},
   "outputs": [],
   "source": [
    "import cv2"
   ]
  },
  {
   "cell_type": "code",
   "execution_count": 6,
   "id": "91262e50-22fa-4d91-bc96-1b86aedc6bb6",
   "metadata": {},
   "outputs": [],
   "source": [
    "im = cv2.imread('./images/almonds.jpg', cv2.WINDOW_AUTOSIZE)\n",
    "cv2.imshow(\"ALMONDS NA GALIT\", im)\n",
    "cv2.waitKey(0)"
   ]
  },
  {
   "cell_type": "code",
   "execution_count": null,
   "id": "c0297dce-3220-4380-9445-739eec0fcf76",
   "metadata": {},
   "outputs": [],
   "source": []
  }
 ],
 "metadata": {
  "kernelspec": {
   "display_name": "Python 3 (ipykernel)",
   "language": "python",
   "name": "python3"
  },
  "language_info": {
   "codemirror_mode": {
    "name": "ipython",
    "version": 3
   },
   "file_extension": ".py",
   "mimetype": "text/x-python",
   "name": "python",
   "nbconvert_exporter": "python",
   "pygments_lexer": "ipython3",
   "version": "3.11.5"
  }
 },
 "nbformat": 4,
 "nbformat_minor": 5
}
